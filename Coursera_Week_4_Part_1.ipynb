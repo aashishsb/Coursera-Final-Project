{
  "nbformat": 4,
  "nbformat_minor": 0,
  "metadata": {
    "colab": {
      "name": "Coursera Week 4 - Part 1",
      "provenance": [],
      "authorship_tag": "ABX9TyOJfP5WbZst++NmMrmHqG/S"
    },
    "kernelspec": {
      "name": "python3",
      "display_name": "Python 3"
    },
    "language_info": {
      "name": "python"
    }
  },
  "cells": [
    {
      "cell_type": "markdown",
      "metadata": {
        "id": "PUw78idFcsJ8"
      },
      "source": [
        "## **Introduction**"
      ]
    },
    {
      "cell_type": "markdown",
      "metadata": {
        "id": "ky27H_uFczm0"
      },
      "source": [
        "London is a quite popular tourist and vacation destination for people all around the world. It is diverse and multicultural and offer a wide variety of experiences that is widely sought after. We try to group the neighbourhoods of London and draw insights to what they look like now."
      ]
    },
    {
      "cell_type": "markdown",
      "metadata": {
        "id": "y2KxNi8ic8ah"
      },
      "source": [
        "## **Business Problem**"
      ]
    },
    {
      "cell_type": "markdown",
      "metadata": {
        "id": "xgpVkBindIjU"
      },
      "source": [
        "The aim is to help tourists choose their destinations depending on the experiences that the neighbourhoods have to offer and what they would want to have. This also helps people make decisions if they are thinking about migrating to London or even if they want to relocate neighbourhoods within the city. Our findings will help stakeholders make informed decisions and address any concerns they have including the different kinds of cuisines, provision stores and what the city has to offer."
      ]
    },
    {
      "cell_type": "markdown",
      "metadata": {
        "id": "c9CvaEiufGqr"
      },
      "source": [
        "## **Data Description**"
      ]
    },
    {
      "cell_type": "markdown",
      "metadata": {
        "id": "HeOAtkS5fUpQ"
      },
      "source": [
        "We require geolocation data for London. Postal codes of city serves as a starting point. Using Postal codes we use can find out the neighbourhoods, boroughs, venues and their most popular venue categories.\n"
      ]
    },
    {
      "cell_type": "markdown",
      "metadata": {
        "id": "tO0rnqKafYDo"
      },
      "source": [
        "## **London**"
      ]
    },
    {
      "cell_type": "markdown",
      "metadata": {
        "id": "w5IguoebfgZF"
      },
      "source": [
        "To derive our solution, We scrape our data from https://en.wikipedia.org/wiki/List_of_areas_of_London\n",
        "\n",
        "This wikipedia page has information about all the neighbourhoods, we limit it London.\n",
        "\n",
        "1. borough : Name of Neighbourhood\n",
        "2. town : Name of borough\n",
        "3. post_code : Postal codes for London\n",
        "\n",
        "This wikipedia page lacks information about the geographical locations. To solve this problem we use ArcGIS API"
      ]
    },
    {
      "cell_type": "markdown",
      "metadata": {
        "id": "3dYotK-FgGYU"
      },
      "source": [
        "## **ArcGIS API**"
      ]
    },
    {
      "cell_type": "markdown",
      "metadata": {
        "id": "r8zyDWz5gac5"
      },
      "source": [
        "ArcGIS Online enables you to connect people, locations, and data using interactive maps. Work with smart, data-driven styles and intuitive analysis tools that deliver location intelligence. Share your insights with the world or specific groups.\n",
        "\n",
        "More specifically, we use ArcGIS to get the geo locations of the neighbourhoods of London. The following columns are added to our initial dataset which prepares our data.\n",
        "\n",
        "1. latitude : Latitude for Neighbourhood\n",
        "2. longitude : Longitude for Neighbourhood"
      ]
    },
    {
      "cell_type": "markdown",
      "metadata": {
        "id": "fuwy5FXMgr9i"
      },
      "source": [
        "Based on all the information collected for London, we have sufficient data to build our model. We cluster the neighbourhoods together based on similar venue categories. We then present our observations and findings. Using this data, our stakeholders can take the necessary decision."
      ]
    },
    {
      "cell_type": "markdown",
      "metadata": {
        "id": "3HXvEKF9jI89"
      },
      "source": [
        "## **Methodology**"
      ]
    },
    {
      "cell_type": "markdown",
      "metadata": {
        "id": "8eY69_7ZjNIp"
      },
      "source": [
        "We will be creating our model with the help of Python so we start off by importing all the required packages."
      ]
    },
    {
      "cell_type": "code",
      "metadata": {
        "id": "Y0lMPz9-ghfI"
      },
      "source": [
        "import pandas as pd\n",
        "import requests\n",
        "import numpy as np\n",
        "import matplotlib.cm as cm\n",
        "import matplotlib.colors as colors\n",
        "import folium\n",
        "\n",
        "# import k-means for the clustering stage\n",
        "from sklearn.cluster import KMeans"
      ],
      "execution_count": null,
      "outputs": []
    },
    {
      "cell_type": "markdown",
      "metadata": {
        "id": "unStPMBGjUwK"
      },
      "source": [
        "Package breakdown:\n",
        "\n",
        "1. Pandas : To collect and manipulate data in HTMl and then data analysis\n",
        "2. requests : Handle http requests\n",
        "3. matplotlib : Detailing the generated maps\n",
        "4. folium : Generating maps of London\n",
        "5. sklearn : To import Kmeans which is the machine learning model that we are using.\n",
        "\n",
        "The approach taken here is to explore the city, plot the map to show the neighbourhoods being considered and then build our model by clustering all of the similar neighbourhoods together and finally plot the new map with the clustered neighbourhoods. We draw insights and then discuss our findings."
      ]
    },
    {
      "cell_type": "markdown",
      "metadata": {
        "id": "eV8Osod4jYJs"
      },
      "source": [
        "## **Exploring London**"
      ]
    },
    {
      "cell_type": "markdown",
      "metadata": {
        "id": "EVN_bWg1j-co"
      },
      "source": [
        "## Neighborhoods of London"
      ]
    },
    {
      "cell_type": "markdown",
      "metadata": {
        "id": "8Xwrgg67kE6T"
      },
      "source": [
        "We begin to start collecting and refining the data needed for the our business solution to work."
      ]
    },
    {
      "cell_type": "markdown",
      "metadata": {
        "id": "tKTebenGkIva"
      },
      "source": [
        "### **Data Collection**"
      ]
    },
    {
      "cell_type": "markdown",
      "metadata": {
        "id": "t9JSA7OykPXg"
      },
      "source": [
        "To get the neighbourhoods in london, we start by scraping the list of areas of london wiki page."
      ]
    },
    {
      "cell_type": "code",
      "metadata": {
        "colab": {
          "base_uri": "https://localhost:8080/"
        },
        "id": "hk7TuO88jXj7",
        "outputId": "aa183160-544e-4f72-dc75-93d94a2cbe6e"
      },
      "source": [
        "url_london = \"https://en.wikipedia.org/wiki/List_of_areas_of_London\"\n",
        "wiki_london_url = requests.get(url_london)\n",
        "wiki_london_url"
      ],
      "execution_count": null,
      "outputs": [
        {
          "output_type": "execute_result",
          "data": {
            "text/plain": [
              "<Response [200]>"
            ]
          },
          "metadata": {
            "tags": []
          },
          "execution_count": 2
        }
      ]
    },
    {
      "cell_type": "code",
      "metadata": {
        "colab": {
          "base_uri": "https://localhost:8080/"
        },
        "id": "wh-KFzyfkX-e",
        "outputId": "906dd785-2583-4ba3-c258-ab58b80e0799"
      },
      "source": [
        "wiki_london_data = pd.read_html(wiki_london_url.text)\n",
        "wiki_london_data"
      ],
      "execution_count": null,
      "outputs": [
        {
          "output_type": "execute_result",
          "data": {
            "text/plain": [
              "[                                                   0\n",
              " 0  Map all coordinates in \"Category:Areas of Lond...\n",
              " 1                       Download coordinates as: KML,\n",
              "             Location                     London borough  ... Dial code OS grid ref\n",
              " 0         Abbey Wood              Bexley, Greenwich [7]  ...       020    TQ465785\n",
              " 1              Acton  Ealing, Hammersmith and Fulham[8]  ...       020    TQ205805\n",
              " 2          Addington                         Croydon[8]  ...       020    TQ375645\n",
              " 3         Addiscombe                         Croydon[8]  ...       020    TQ345665\n",
              " 4        Albany Park                             Bexley  ...       020    TQ478728\n",
              " ..               ...                                ...  ...       ...         ...\n",
              " 526         Woolwich                          Greenwich  ...       020    TQ435795\n",
              " 527   Worcester Park       Sutton, Kingston upon Thames  ...       020    TQ225655\n",
              " 528  Wormwood Scrubs             Hammersmith and Fulham  ...       020    TQ225815\n",
              " 529          Yeading                         Hillingdon  ...       020    TQ115825\n",
              " 530         Yiewsley                         Hillingdon  ...       020    TQ063804\n",
              " \n",
              " [531 rows x 6 columns],\n",
              "     0                                                  1\n",
              " 0 NaN  Wikimedia Commons has media related to Distric...,\n",
              "   .mw-parser-output .navbar{display:inline;font-size:88%;font-weight:normal}.mw-parser-output .navbar-collapse{float:left;text-align:left}.mw-parser-output .navbar-boxtext{word-spacing:0}.mw-parser-output .navbar ul{display:inline-block;white-space:nowrap;line-height:inherit}.mw-parser-output .navbar-brackets::before{margin-right:-0.125em;content:\"[ \"}.mw-parser-output .navbar-brackets::after{margin-left:-0.125em;content:\" ]\"}.mw-parser-output .navbar li{word-spacing:-0.125em}.mw-parser-output .navbar-mini abbr{font-variant:small-caps;border-bottom:none;text-decoration:none;cursor:inherit}.mw-parser-output .navbar-ct-full{font-size:114%;margin:0 7em}.mw-parser-output .navbar-ct-mini{font-size:114%;margin:0 4em}.mw-parser-output .infobox .navbar{font-size:100%}.mw-parser-output .navbox .navbar{display:block;font-size:100%}.mw-parser-output .navbox-title .navbar{float:left;text-align:left;margin-right:0.5em}vteAreas of London .mw-parser-output .navbar{display:inline;font-size:88%;font-weight:normal}.mw-parser-output .navbar-collapse{float:left;text-align:left}.mw-parser-output .navbar-boxtext{word-spacing:0}.mw-parser-output .navbar ul{display:inline-block;white-space:nowrap;line-height:inherit}.mw-parser-output .navbar-brackets::before{margin-right:-0.125em;content:\"[ \"}.mw-parser-output .navbar-brackets::after{margin-left:-0.125em;content:\" ]\"}.mw-parser-output .navbar li{word-spacing:-0.125em}.mw-parser-output .navbar-mini abbr{font-variant:small-caps;border-bottom:none;text-decoration:none;cursor:inherit}.mw-parser-output .navbar-ct-full{font-size:114%;margin:0 7em}.mw-parser-output .navbar-ct-mini{font-size:114%;margin:0 4em}.mw-parser-output .infobox .navbar{font-size:100%}.mw-parser-output .navbox .navbar{display:block;font-size:100%}.mw-parser-output .navbox-title .navbar{float:left;text-align:left;margin-right:0.5em}vteAreas of London.1\n",
              " 0                            Central activities zone                                                                                                                                                                                                                                                                                                                                                                                                                                                                                                                                                                                                                                                                                                                                                                                                                                                                                                                       Bloomsbury City of London wards Holborn Maryle...                                                                                                                                                                                                                                                                                                                                                                                                                                                                                                                                                                                                                                                                                                                                                                                                                                                                                                                       \n",
              " 1                                 Town centrenetwork                                                                                                                                                                                                                                                                                                                                                                                                                                                                                                                                                                                                                                                                                                                                                                                                                                                                                                                       International Knightsbridge West End Metropoli...                                                                                                                                                                                                                                                                                                                                                                                                                                                                                                                                                                                                                                                                                                                                                                                                                                                                                                                       \n",
              " 2                                      International                                                                                                                                                                                                                                                                                                                                                                                                                                                                                                                                                                                                                                                                                                                                                                                                                                                                                                                                                  Knightsbridge West End                                                                                                                                                                                                                                                                                                                                                                                                                                                                                                                                                                                                                                                                                                                                                                                                                                                                                                                       \n",
              " 3                                       Metropolitan                                                                                                                                                                                                                                                                                                                                                                                                                                                                                                                                                                                                                                                                                                                                                                                                                                                                                                                       Bromley Croydon Ealing Harrow Hounslow Ilford ...                                                                                                                                                                                                                                                                                                                                                                                                                                                                                                                                                                                                                                                                                                                                                                                                                                                                                                                       \n",
              " 4                                              Major                                                                                                                                                                                                                                                                                                                                                                                                                                                                                                                                                                                                                                                                                                                                                                                                                                                                                                                       Angel Barking Bexleyheath Brixton Camden Town ...                                                                                                                                                                                                                                                                                                                                                                                                                                                                                                                                                                                                                                                                                                                                                                                                                                                                                                                       \n",
              " 5                               Districts(principal)                                                                                                                                                                                                                                                                                                                                                                                                                                                                                                                                                                                                                                                                                                                                                                                                                                                                                                                       Acton Beckenham Belgravia Bethnal Green Brentf...                                                                                                                                                                                                                                                                                                                                                                                                                                                                                                                                                                                                                                                                                                                                                                                                                                                                                                                       \n",
              " 6                          Neighbourhoods(principal)                                                                                                                                                                                                                                                                                                                                                                                                                                                                                                                                                                                                                                                                                                                                                                                                                                                                                                                       Abbey Wood Alperton Anerley Archway Barnes Bar...                                                                                                                                                                                                                                                                                                                                                                                                                                                                                                                                                                                                                                                                                                                                                                                                                                                                                                                       \n",
              " 7                           Lists of areasby borough                                                                                                                                                                                                                                                                                                                                                                                                                                                                                                                                                                                                                                                                                                                                                                                                                                                                                                                       Barking and Dagenham Barnet Bexley Brent Broml...                                                                                                                                                                                                                                                                                                                                                                                                                                                                                                                                                                                                                                                                                                                                                                                                                                                                                                                       \n",
              " 8                                          Fictional                                                                                                                                                                                                                                                                                                                                                                                                                                                                                                                                                                                                                                                                                                                                                                                                                                                                                                                       Canley (borough) (The Bill: TV soap) Charnham ...                                                                                                                                                                                                                                                                                                                                                                                                                                                                                                                                                                                                                                                                                                                                                                                                                                                                                                                       ,\n",
              "                            0                                                  1\n",
              " 0              International                             Knightsbridge West End\n",
              " 1               Metropolitan  Bromley Croydon Ealing Harrow Hounslow Ilford ...\n",
              " 2                      Major  Angel Barking Bexleyheath Brixton Camden Town ...\n",
              " 3       Districts(principal)  Acton Beckenham Belgravia Bethnal Green Brentf...\n",
              " 4  Neighbourhoods(principal)  Abbey Wood Alperton Anerley Archway Barnes Bar...]"
            ]
          },
          "metadata": {
            "tags": []
          },
          "execution_count": 3
        }
      ]
    },
    {
      "cell_type": "markdown",
      "metadata": {
        "id": "fcOjALLhkcmJ"
      },
      "source": [
        "Scraping the webpage gives us all the tables present on the page. We need the 2nd table, so selecting the 2nd table."
      ]
    },
    {
      "cell_type": "code",
      "metadata": {
        "colab": {
          "base_uri": "https://localhost:8080/",
          "height": 414
        },
        "id": "mJN06ScbkYeH",
        "outputId": "29a0bfa8-1001-4785-c68a-549c08a70c79"
      },
      "source": [
        "wiki_london_data = wiki_london_data[1]\n",
        "wiki_london_data"
      ],
      "execution_count": null,
      "outputs": [
        {
          "output_type": "execute_result",
          "data": {
            "text/html": [
              "<div>\n",
              "<style scoped>\n",
              "    .dataframe tbody tr th:only-of-type {\n",
              "        vertical-align: middle;\n",
              "    }\n",
              "\n",
              "    .dataframe tbody tr th {\n",
              "        vertical-align: top;\n",
              "    }\n",
              "\n",
              "    .dataframe thead th {\n",
              "        text-align: right;\n",
              "    }\n",
              "</style>\n",
              "<table border=\"1\" class=\"dataframe\">\n",
              "  <thead>\n",
              "    <tr style=\"text-align: right;\">\n",
              "      <th></th>\n",
              "      <th>Location</th>\n",
              "      <th>London borough</th>\n",
              "      <th>Post town</th>\n",
              "      <th>Postcode district</th>\n",
              "      <th>Dial code</th>\n",
              "      <th>OS grid ref</th>\n",
              "    </tr>\n",
              "  </thead>\n",
              "  <tbody>\n",
              "    <tr>\n",
              "      <th>0</th>\n",
              "      <td>Abbey Wood</td>\n",
              "      <td>Bexley, Greenwich [7]</td>\n",
              "      <td>LONDON</td>\n",
              "      <td>SE2</td>\n",
              "      <td>020</td>\n",
              "      <td>TQ465785</td>\n",
              "    </tr>\n",
              "    <tr>\n",
              "      <th>1</th>\n",
              "      <td>Acton</td>\n",
              "      <td>Ealing, Hammersmith and Fulham[8]</td>\n",
              "      <td>LONDON</td>\n",
              "      <td>W3, W4</td>\n",
              "      <td>020</td>\n",
              "      <td>TQ205805</td>\n",
              "    </tr>\n",
              "    <tr>\n",
              "      <th>2</th>\n",
              "      <td>Addington</td>\n",
              "      <td>Croydon[8]</td>\n",
              "      <td>CROYDON</td>\n",
              "      <td>CR0</td>\n",
              "      <td>020</td>\n",
              "      <td>TQ375645</td>\n",
              "    </tr>\n",
              "    <tr>\n",
              "      <th>3</th>\n",
              "      <td>Addiscombe</td>\n",
              "      <td>Croydon[8]</td>\n",
              "      <td>CROYDON</td>\n",
              "      <td>CR0</td>\n",
              "      <td>020</td>\n",
              "      <td>TQ345665</td>\n",
              "    </tr>\n",
              "    <tr>\n",
              "      <th>4</th>\n",
              "      <td>Albany Park</td>\n",
              "      <td>Bexley</td>\n",
              "      <td>BEXLEY, SIDCUP</td>\n",
              "      <td>DA5, DA14</td>\n",
              "      <td>020</td>\n",
              "      <td>TQ478728</td>\n",
              "    </tr>\n",
              "    <tr>\n",
              "      <th>...</th>\n",
              "      <td>...</td>\n",
              "      <td>...</td>\n",
              "      <td>...</td>\n",
              "      <td>...</td>\n",
              "      <td>...</td>\n",
              "      <td>...</td>\n",
              "    </tr>\n",
              "    <tr>\n",
              "      <th>526</th>\n",
              "      <td>Woolwich</td>\n",
              "      <td>Greenwich</td>\n",
              "      <td>LONDON</td>\n",
              "      <td>SE18</td>\n",
              "      <td>020</td>\n",
              "      <td>TQ435795</td>\n",
              "    </tr>\n",
              "    <tr>\n",
              "      <th>527</th>\n",
              "      <td>Worcester Park</td>\n",
              "      <td>Sutton, Kingston upon Thames</td>\n",
              "      <td>WORCESTER PARK</td>\n",
              "      <td>KT4</td>\n",
              "      <td>020</td>\n",
              "      <td>TQ225655</td>\n",
              "    </tr>\n",
              "    <tr>\n",
              "      <th>528</th>\n",
              "      <td>Wormwood Scrubs</td>\n",
              "      <td>Hammersmith and Fulham</td>\n",
              "      <td>LONDON</td>\n",
              "      <td>W12</td>\n",
              "      <td>020</td>\n",
              "      <td>TQ225815</td>\n",
              "    </tr>\n",
              "    <tr>\n",
              "      <th>529</th>\n",
              "      <td>Yeading</td>\n",
              "      <td>Hillingdon</td>\n",
              "      <td>HAYES</td>\n",
              "      <td>UB4</td>\n",
              "      <td>020</td>\n",
              "      <td>TQ115825</td>\n",
              "    </tr>\n",
              "    <tr>\n",
              "      <th>530</th>\n",
              "      <td>Yiewsley</td>\n",
              "      <td>Hillingdon</td>\n",
              "      <td>WEST DRAYTON</td>\n",
              "      <td>UB7</td>\n",
              "      <td>020</td>\n",
              "      <td>TQ063804</td>\n",
              "    </tr>\n",
              "  </tbody>\n",
              "</table>\n",
              "<p>531 rows × 6 columns</p>\n",
              "</div>"
            ],
            "text/plain": [
              "            Location                     London borough  ... Dial code OS grid ref\n",
              "0         Abbey Wood              Bexley, Greenwich [7]  ...       020    TQ465785\n",
              "1              Acton  Ealing, Hammersmith and Fulham[8]  ...       020    TQ205805\n",
              "2          Addington                         Croydon[8]  ...       020    TQ375645\n",
              "3         Addiscombe                         Croydon[8]  ...       020    TQ345665\n",
              "4        Albany Park                             Bexley  ...       020    TQ478728\n",
              "..               ...                                ...  ...       ...         ...\n",
              "526         Woolwich                          Greenwich  ...       020    TQ435795\n",
              "527   Worcester Park       Sutton, Kingston upon Thames  ...       020    TQ225655\n",
              "528  Wormwood Scrubs             Hammersmith and Fulham  ...       020    TQ225815\n",
              "529          Yeading                         Hillingdon  ...       020    TQ115825\n",
              "530         Yiewsley                         Hillingdon  ...       020    TQ063804\n",
              "\n",
              "[531 rows x 6 columns]"
            ]
          },
          "metadata": {
            "tags": []
          },
          "execution_count": 4
        }
      ]
    },
    {
      "cell_type": "markdown",
      "metadata": {
        "id": "0G96ABBedcOX"
      },
      "source": [
        "This will be our final dataset that we will be working with."
      ]
    }
  ]
}